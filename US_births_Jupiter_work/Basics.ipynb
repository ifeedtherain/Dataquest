{
 "cells": [
  {
   "cell_type": "code",
   "execution_count": null,
   "metadata": {
    "collapsed": false
   },
   "outputs": [],
   "source": [
    "with open('US_births_1994-2003_CDC_NCHS.csv', 'r') as f:\n",
    "    count = 0\n",
    "    j = f.read().split(\"\\n\")\n",
    "    for i in j:\n",
    "        print(i)\n",
    "       "
   ]
  },
  {
   "cell_type": "code",
   "execution_count": 3,
   "metadata": {
    "collapsed": false
   },
   "outputs": [
    {
     "name": "stdout",
     "output_type": "stream",
     "text": [
      "[1994, 1, 1, 6, 8096]\n",
      "[1994, 1, 2, 7, 7772]\n",
      "[1994, 1, 3, 1, 10142]\n",
      "[1994, 1, 4, 2, 11248]\n",
      "[1994, 1, 5, 3, 11053]\n",
      "[1994, 1, 6, 4, 11406]\n",
      "[1994, 1, 7, 5, 11251]\n",
      "[1994, 1, 8, 6, 8653]\n",
      "[1994, 1, 9, 7, 7910]\n",
      "[1994, 1, 10, 1, 10498]\n"
     ]
    }
   ],
   "source": [
    "file = 'US_births_1994-2003_CDC_NCHS.csv'\n",
    "\n",
    "\n",
    "def read_csv(file):\n",
    "    final_list = []\n",
    "    string_fields = []\n",
    "    with open(file, 'r')as f:\n",
    "        string_list = f.read().split(\"\\n\")\n",
    "        \n",
    "    string_list.pop(0)\n",
    "    \n",
    "    for i in string_list:\n",
    "        string_fields.append(i.split(','))\n",
    "        \n",
    "    for i in string_fields:\n",
    "        int_list = []\n",
    "        for j in i:\n",
    "            int_list.append(int(j))\n",
    "        final_list.append(int_list)\n",
    "        \n",
    "    return final_list\n",
    "\n",
    "cdc_list = read_csv(file)\n",
    "\n",
    "for i in cdc_list[:10]:\n",
    "    print(i)"
   ]
  },
  {
   "cell_type": "code",
   "execution_count": 6,
   "metadata": {
    "collapsed": false
   },
   "outputs": [
    {
     "name": "stdout",
     "output_type": "stream",
     "text": [
      "{1: 3232517, 2: 3018140, 3: 3322069, 4: 3185314, 5: 3350907, 6: 3296530, 7: 3498783, 8: 3525858, 9: 3439698, 10: 3378814, 11: 3171647, 12: 3301860}\n"
     ]
    }
   ],
   "source": [
    "def month_births(cdc_list):\n",
    "    births_per_month = dict()\n",
    "    for i in cdc_list:\n",
    "        month = i[1]\n",
    "        births = i[4]\n",
    "        if month in births_per_month:\n",
    "            births_per_month[month] += births\n",
    "        else:\n",
    "            births_per_month[month] = births\n",
    "    return births_per_month\n",
    "print(month_births(cdc_list))\n",
    "    "
   ]
  },
  {
   "cell_type": "code",
   "execution_count": 7,
   "metadata": {
    "collapsed": false
   },
   "outputs": [
    {
     "name": "stdout",
     "output_type": "stream",
     "text": [
      "{1: 5789166, 2: 6446196, 3: 6322855, 4: 6288429, 5: 6233657, 6: 4562111, 7: 4079723}\n"
     ]
    }
   ],
   "source": [
    "def dow_births(cdc_list):\n",
    "    cdc_day_births = dict()\n",
    "    for i in cdc_list:\n",
    "        day_of_week = i[3]\n",
    "        births = i[4]\n",
    "        if day_of_week in cdc_day_births:\n",
    "            cdc_day_births[day_of_week] += births\n",
    "        else:\n",
    "            cdc_day_births[day_of_week] = births\n",
    "    return cdc_day_births\n",
    "print(dow_births(cdc_list))\n",
    "        "
   ]
  },
  {
   "cell_type": "code",
   "execution_count": 14,
   "metadata": {
    "collapsed": false
   },
   "outputs": [
    {
     "name": "stdout",
     "output_type": "stream",
     "text": [
      "{2000: 4058814, 2001: 4025933, 2002: 4021726, 2003: 4089950, 1994: 3952767, 1995: 3899589, 1996: 3891494, 1997: 3880894, 1998: 3941553, 1999: 3959417}\n"
     ]
    }
   ],
   "source": [
    "def calc_counts(data, column):\n",
    "    cdc_day_births = dict()\n",
    "    for i in data:\n",
    "        var_col = i[column]\n",
    "        births  = i[4]\n",
    "        if var_col in cdc_day_births:\n",
    "            cdc_day_births[var_col] += births\n",
    "        else:\n",
    "            cdc_day_births[var_col] = births\n",
    "    return cdc_day_births\n",
    "\n",
    "cdc_year_births = calc_counts(cdc_list, 0)\n",
    "cdc_month_births = calc_counts(cdc_list, 1)\n",
    "cdc_dom_births = calc_counts(cdc_list, 2)\n",
    "cdc_dow_births = calc_counts(cdc_list, 3)\n",
    "print(cdc_year_births)"
   ]
  },
  {
   "cell_type": "code",
   "execution_count": 22,
   "metadata": {
    "collapsed": false
   },
   "outputs": [
    {
     "data": {
      "text/plain": [
       "3880894"
      ]
     },
     "execution_count": 22,
     "metadata": {},
     "output_type": "execute_result"
    }
   ],
   "source": [
    "def max_min(di, pos):\n",
    "    \"\"\" Pos arguments:\n",
    "        Maximal dict-value = True,\n",
    "        Minimal = False\n",
    "    \"\"\"\n",
    "    values = []\n",
    "    for k,v in di.items():\n",
    "            values.append(v)\n",
    "    number = values[0]\n",
    "    if pos:\n",
    "        for i in values:\n",
    "            if number < i:\n",
    "                number = i\n",
    "    else:\n",
    "        for i in values:\n",
    "            if number > i:\n",
    "                number = i\n",
    "    return number\n",
    "\n",
    "max_min(cdc_year_births, False)"
   ]
  },
  {
   "cell_type": "code",
   "execution_count": null,
   "metadata": {
    "collapsed": true
   },
   "outputs": [],
   "source": [
    "def dif_births(cdc_list, year1, year2):\n",
    "    data = dict()\n",
    "    for i in cdc_list:\n",
    "        year = i[0]\n",
    "        births = i[4]\n",
    "        if year in data:\n",
    "            data[year] += births\n",
    "        else:\n",
    "            data[year] = births\n",
    "    if year1, year2 in data :\n",
    "        if data[year1] > data[year2]:\n",
    "            dif = data[year1] - data[year2]\n",
    "        else:\n",
    "            dif = data[year2] - data[year1]\n",
    "        return dif\n",
    "    else:\n",
    "        return None\n",
    "dif_births(cdc_list, 1996, 1999)"
   ]
  },
  {
   "cell_type": "code",
   "execution_count": null,
   "metadata": {
    "collapsed": true
   },
   "outputs": [],
   "source": [
    "import requests\n",
    "import csv\n",
    "\n",
    "file = requests.get('https://github.com/fivethirtyeight/data/blob/master/births/US_births_2000-2014_SSA.csv')\n",
    "with open(r'C:\\Users\\storm\\US_births_2000-2014_SSA.csv')as f:\n",
    "    f_read = csv.reader(f, delimiter=' ', quotechar='|')\n",
    "    \n",
    "    for row in f_read:\n",
    "        print(', '.join(row))\n",
    "    print(f)"
   ]
  }
 ],
 "metadata": {
  "anaconda-cloud": {},
  "kernelspec": {
   "display_name": "Python 3",
   "language": "python",
   "name": "python3"
  },
  "language_info": {
   "codemirror_mode": {
    "name": "ipython",
    "version": 3
   },
   "file_extension": ".py",
   "mimetype": "text/x-python",
   "name": "python",
   "nbconvert_exporter": "python",
   "pygments_lexer": "ipython3",
   "version": "3.4.3"
  }
 },
 "nbformat": 4,
 "nbformat_minor": 1
}
